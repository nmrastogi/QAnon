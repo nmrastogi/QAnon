{
 "cells": [
  {
   "cell_type": "markdown",
   "id": "adb23ab0-2ee0-4348-8919-61cb757c6556",
   "metadata": {},
   "source": [
    "# Basic Notebook Commands\n",
    "- Edit Mode (cursor is blinking on text, cell has blue outline)\n",
    "    - Should have most of your normal text-editing keyboard shortcuts\n",
    "    - Some extra tricks:\n",
    "        - CTRL+X / CTRL+C will cut/copy the entire line your cursor is on if you haven't highlighted anything\n",
    "        - CTRL+D: delete the entire line\n",
    "        - CTRL+\\[ / CTRL+\\]: indent/unindent selection\n",
    "    - Press `Esc` or click anywhere outside the cell to enter `Command Mode`\n",
    "\n",
    "- Command Mode (no cursor, cell has grey outline)\n",
    "    - `Ctrl+Enter`: execute cell\n",
    "    - `Shift+Enter`: execute cell and move to next cell \n",
    "    - `A`: add cell above\n",
    "    - `B`: add cell below\n",
    "    - `D+D`: delete cell\n",
    "    - `Z`: undo delete cell\n",
    "    - `C`: copy cell\n",
    "    - `X`: cut cell\n",
    "    - `V`: paste cell\n",
    "    - `Shift+Up/Down`: select multiple cells (for deleting, etc)\n",
    "    - `Opt+Up/Down`: move selected cell(s) up or down\n",
    "    - `0+0`: restart kernel\n",
    "    - `I+I`: interrupt kernel (== clicking the stop button above)\n",
    "    "
   ]
  },
  {
   "cell_type": "code",
   "execution_count": null,
   "id": "02d3e608-0383-4dbc-bfd2-9491071a9351",
   "metadata": {},
   "outputs": [],
   "source": [
    "print(\"Hello world!\")"
   ]
  },
  {
   "cell_type": "markdown",
   "id": "40eda74a-15fc-4188-baa1-18277ca5467a",
   "metadata": {},
   "source": [
    "# Directory:\n",
    "- The directory opened by default in the left panel is a SHARED directory (i.e. anything you delete is deleted for everyone else)\n",
    "- It's recommended you access only your own named directory, and avoid going into others unless looking for something specific"
   ]
  },
  {
   "cell_type": "markdown",
   "id": "9cc9f801-ef9e-47b1-afd3-425f1255fb81",
   "metadata": {},
   "source": [
    "# Packages:\n",
    "- By default, you should have any package listed in the [jupyter-datascience-notebook](https://jupyter-docker-stacks.readthedocs.io/en/latest/using/selecting.html#jupyter-datascience-notebook) image built by the Jupyter team\n",
    "- Everyone has their own Docker container, so feel free to add and remove packages as you need\n",
    "- NOTE: If the containers ever reset (very very infrequent), any packages you installed \"ad-hoc\" will not be present when the container restarts. It's a good idea to keep track of which packages you've installed in a requirements.txt file in your home directory!"
   ]
  },
  {
   "cell_type": "markdown",
   "id": "ed453cf2-9b9c-4c1b-b247-137e5509f0ee",
   "metadata": {},
   "source": [
    "# Data:\n",
    "- Most of our data is in the /largedata directory\n",
    "- Some notable sets:\n",
    "    - Ukr_tweets.json    |    Tweets from the 2014 Ukrainian Revolution collected by keyword between late 2013 and 2015\n",
    "    - Hurricanes_HIM     |    Tweets collected during Hurricanes Sandy and Irma\n",
    "    - dotwin/            |    Posts and comments from the set of right-wing Reddit-clones broadly referred to as the DotWin network\n",
    "    - parler/            |    Posts and comments from Parler scraped before it was temporarily taken offline in January of 2021"
   ]
  },
  {
   "cell_type": "markdown",
   "id": "a89da187-3a63-4328-8381-53d085e79d5f",
   "metadata": {
    "tags": []
   },
   "source": [
    "# SSH\n",
    "- To get Git set up you need SSH access setup on your GitHub account\n",
    "- A key was already generated as part of the container setup, now you'll just need set it as a key recognized by your account\n",
    "- Steps:\n",
    "-     Go to https://github.com/settings/keys\n",
    "-     Click \"New SSH Key\"\n",
    "-     Name it something like \"KoRe Server\"\n",
    "-     Run this Jupyter cell (click the cell, then press CTRL+Enter)\n",
    "-     Paste the output of this cell into \"Key\" textbox\n",
    "-     Click \"Add SSH Key\""
   ]
  },
  {
   "cell_type": "code",
   "execution_count": null,
   "id": "95d713ad-0075-43ad-aedf-5e2a008dff08",
   "metadata": {},
   "outputs": [],
   "source": [
    "!cat ~/.ssh/id_rsa.pub"
   ]
  },
  {
   "cell_type": "markdown",
   "id": "81dba0b2-03c5-4f9d-bb14-0b872c13d0c1",
   "metadata": {},
   "source": [
    "# Git\n",
    "- Now you should be able to clone stuff from any repo your account has access to in the Kogan Research organization (https://github.com/kogan-research)\n",
    "- To start, we'll and install our lab-wide utilities package:"
   ]
  },
  {
   "cell_type": "code",
   "execution_count": null,
   "id": "45558fb6-1110-4fc7-b663-87f8e8d37978",
   "metadata": {},
   "outputs": [],
   "source": [
    "KORE_VERSION=\"v0.0.1\" # check the repo to see if there's a more recent version! (https://github.com/kogan-research/kore_utils)\n",
    "!pip install git+ssh://git@github.com/kogan-research/kore_utils.git@{KORE_VERSION}"
   ]
  }
 ],
 "metadata": {
  "kernelspec": {
   "display_name": "Python 3 (ipykernel)",
   "language": "python",
   "name": "python3"
  },
  "language_info": {
   "codemirror_mode": {
    "name": "ipython",
    "version": 3
   },
   "file_extension": ".py",
   "mimetype": "text/x-python",
   "name": "python",
   "nbconvert_exporter": "python",
   "pygments_lexer": "ipython3",
   "version": "3.10.6"
  }
 },
 "nbformat": 4,
 "nbformat_minor": 5
}
